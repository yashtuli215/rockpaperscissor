{
 "cells": [
  {
   "cell_type": "code",
   "execution_count": 4,
   "metadata": {},
   "outputs": [
    {
     "ename": "IndentationError",
     "evalue": "unindent does not match any outer indentation level (<tokenize>, line 19)",
     "output_type": "error",
     "traceback": [
      "\u001b[1;36m  File \u001b[1;32m\"<tokenize>\"\u001b[1;36m, line \u001b[1;32m19\u001b[0m\n\u001b[1;33m    if rand_num == choice:\u001b[0m\n\u001b[1;37m    ^\u001b[0m\n\u001b[1;31mIndentationError\u001b[0m\u001b[1;31m:\u001b[0m unindent does not match any outer indentation level\n"
     ]
    }
   ],
   "source": [
    "times = int(input(\"Number of times you want to play: \"))\n",
    "\ti = 0\n",
    "\tx = \"Computer Wins!\"\n",
    "\ty = \"Player Wins!\"\n",
    "\twhile i <times:\n",
    "\n",
    "\t\tchoice = input(\"Enter your choice: \")\n",
    "\n",
    "\t\tfrom random import randint\n",
    "\t\trand_num = randint(0,2)\n",
    "\n",
    "\t\tif rand_num == 0:\n",
    "\t\t    rand_num='paper'\n",
    "\t\telif rand_num == 1:\n",
    "\t\t    rand_num='scissor'\n",
    "\t\telse:\n",
    "\t\t    rand_num == 'rock'\n",
    "\n",
    "            if rand_num == choice:\n",
    "\t\t    print(\"Its a Tie!\")\n",
    "            else:\n",
    "                if choice == 'rock':\n",
    "                if rand_num == 'paper':\n",
    "                    print(x)\n",
    "                else:\n",
    "                    print(y)\n",
    "                elif choice == 'paper':\n",
    "                if rand_num == 'rock':\n",
    "                    print(y)\n",
    "                else:\n",
    "                    print(y)\n",
    "                elif choice =='scissor':\n",
    "                if rand_num == 'rock':\n",
    "                    print(x)\n",
    "                else:\n",
    "                    print(y)\n",
    "                else:\n",
    "                    print(\"Wrong Choice\")\n",
    "                    print(\"Wrong Choice\")\n",
    "\n",
    "\t\ti +=1"
   ]
  },
  {
   "cell_type": "code",
   "execution_count": null,
   "metadata": {},
   "outputs": [],
   "source": []
  }
 ],
 "metadata": {
  "kernelspec": {
   "display_name": "Python 3",
   "language": "python",
   "name": "python3"
  }
 },
 "nbformat": 4,
 "nbformat_minor": 2
}
